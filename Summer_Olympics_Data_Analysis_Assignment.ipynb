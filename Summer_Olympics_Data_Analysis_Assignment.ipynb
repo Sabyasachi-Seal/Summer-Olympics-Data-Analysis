{
  "nbformat": 4,
  "nbformat_minor": 0,
  "metadata": {
    "colab": {
      "name": "Summer Olympics Data Analysis Assignment",
      "provenance": []
    },
    "kernelspec": {
      "name": "python3",
      "display_name": "Python 3"
    },
    "language_info": {
      "name": "python"
    }
  },
  "cells": [
    {
      "cell_type": "markdown",
      "metadata": {
        "id": "gagvOdqchflD"
      },
      "source": [
        "# ***Cloning Repository***"
      ]
    },
    {
      "cell_type": "code",
      "metadata": {
        "id": "bXsppnVKMwag",
        "colab": {
          "base_uri": "https://localhost:8080/"
        },
        "outputId": "5dc52212-2849-48f9-b29d-f7a62db55777"
      },
      "source": [
        "!git clone https://github.com/AshishJangra27/Skill-India-AI-ML-Scholarship"
      ],
      "execution_count": 23,
      "outputs": [
        {
          "output_type": "stream",
          "name": "stdout",
          "text": [
            "Cloning into 'Skill-India-AI-ML-Scholarship'...\n",
            "remote: Enumerating objects: 120, done.\u001b[K\n",
            "remote: Counting objects: 100% (120/120), done.\u001b[K\n",
            "remote: Compressing objects: 100% (115/115), done.\u001b[K\n",
            "remote: Total 120 (delta 49), reused 0 (delta 0), pack-reused 0\u001b[K\n",
            "Receiving objects: 100% (120/120), 645.89 KiB | 3.94 MiB/s, done.\n",
            "Resolving deltas: 100% (49/49), done.\n"
          ]
        }
      ]
    },
    {
      "cell_type": "markdown",
      "metadata": {
        "id": "TURtbJolhkkG"
      },
      "source": [
        "# ***Moving to required file***"
      ]
    },
    {
      "cell_type": "code",
      "metadata": {
        "id": "ijNl2kr_NLXx",
        "colab": {
          "base_uri": "https://localhost:8080/"
        },
        "outputId": "030f044b-ce8d-42e7-eb7b-9fc257dd28c9"
      },
      "source": [
        "cd /content/Skill-India-AI-ML-Scholarship/Summer Olympics"
      ],
      "execution_count": 24,
      "outputs": [
        {
          "output_type": "stream",
          "name": "stdout",
          "text": [
            "/content/Skill-India-AI-ML-Scholarship/Summer Olympics\n"
          ]
        }
      ]
    },
    {
      "cell_type": "markdown",
      "metadata": {
        "id": "uRcuOnZLhqEo"
      },
      "source": [
        "# ***Importing Packages and Creating DataFrame***"
      ]
    },
    {
      "cell_type": "code",
      "metadata": {
        "id": "8tu_y-LlNp-X"
      },
      "source": [
        "import pandas as pd\n",
        "import numpy as np\n",
        "import matplotlib.pyplot as plt\n",
        "df = pd.read_csv(\"summer.csv\")\n",
        "#df"
      ],
      "execution_count": 25,
      "outputs": []
    },
    {
      "cell_type": "markdown",
      "metadata": {
        "id": "SAndQn88h0vG"
      },
      "source": [
        "\n",
        "# ***1. In how many cities Summer Olympics is held so far?***"
      ]
    },
    {
      "cell_type": "code",
      "metadata": {
        "colab": {
          "base_uri": "https://localhost:8080/"
        },
        "id": "gFFhh1L5h0R9",
        "outputId": "13ab1db4-2263-465e-8481-d0fb7112f1ed"
      },
      "source": [
        "print(\"Total Cities :\", len(df['City'].unique()))"
      ],
      "execution_count": 26,
      "outputs": [
        {
          "output_type": "stream",
          "name": "stdout",
          "text": [
            "Total Cities : 22\n"
          ]
        }
      ]
    },
    {
      "cell_type": "markdown",
      "metadata": {
        "id": "NLBw440rhvN2"
      },
      "source": [
        "\n",
        "# ***2. Which sport is having most number of Gold Medals so far? (Top 5)***"
      ]
    },
    {
      "cell_type": "code",
      "metadata": {
        "colab": {
          "base_uri": "https://localhost:8080/",
          "height": 400
        },
        "id": "5ufDHpRvi0AA",
        "outputId": "68ddd922-ca88-4123-f5ef-ee42019423fd"
      },
      "source": [
        "gold = df[df['Medal']=='Gold']\n",
        "sports = df['Sport'].unique()\n",
        "top_gold = []\n",
        "[top_gold.append([sport, len(gold[gold['Sport']==sport])]) for sport in sports]\n",
        "gold = pd.DataFrame(data=top_gold, columns=['Sport', 'Gold Medals'])\n",
        "top_gold = gold.sort_values(by='Gold Medals', ascending=False).head()\n",
        "top_gold.plot(x = 'Sport', y = 'Gold Medals', kind = 'bar', figsize = (10, 5))"
      ],
      "execution_count": 27,
      "outputs": [
        {
          "output_type": "execute_result",
          "data": {
            "text/plain": [
              "<matplotlib.axes._subplots.AxesSubplot at 0x7f38d2177410>"
            ]
          },
          "metadata": {},
          "execution_count": 27
        },
        {
          "output_type": "display_data",
          "data": {
            "image/png": "[encoded data removed]",
            "text/plain": [
              "<Figure size 720x360 with 1 Axes>"
            ]
          },
          "metadata": {
            "needs_background": "light"
          }
        }
      ]
    },
    {
      "cell_type": "markdown",
      "metadata": {
        "id": "_lQK7eMTj6XE"
      },
      "source": [
        "# ***3. Which sport is having most number of medals so far? (Top 5)***"
      ]
    },
    {
      "cell_type": "code",
      "metadata": {
        "colab": {
          "base_uri": "https://localhost:8080/",
          "height": 400
        },
        "id": "e3akH31Wp65f",
        "outputId": "2e7bdd6f-1a9c-4491-8574-90c488d8ab27"
      },
      "source": [
        "sports, medals = df['Sport'].unique(), []\n",
        "for sport in sports:\n",
        "  sportdf = df[df[\"Sport\"]==sport]\n",
        "  medals.append([sport, len(sportdf['Medal'])])\n",
        "medals = pd.DataFrame(medals, columns=['Sport', \"Medals\"])\n",
        "medals = medals.sort_values(by=\"Medals\", ascending=False)\n",
        "medals.head().plot(x = \"Sport\", y = \"Medals\", kind = \"bar\", figsize = (10, 5))"
      ],
      "execution_count": 28,
      "outputs": [
        {
          "output_type": "execute_result",
          "data": {
            "text/plain": [
              "<matplotlib.axes._subplots.AxesSubplot at 0x7f38d7473250>"
            ]
          },
          "metadata": {},
          "execution_count": 28
        },
        {
          "output_type": "display_data",
          "data": {
            "image/png": "[encoded data removed]",
            "text/plain": [
              "<Figure size 720x360 with 1 Axes>"
            ]
          },
          "metadata": {
            "needs_background": "light"
          }
        }
      ]
    },
    {
      "cell_type": "markdown",
      "metadata": {
        "id": "NEKQ1An-xhJy"
      },
      "source": [
        "# ***4. Which player has won most number of medals? (Top 5)***"
      ]
    },
    {
      "cell_type": "code",
      "metadata": {
        "id": "9-AD9QcrcU1s",
        "colab": {
          "base_uri": "https://localhost:8080/",
          "height": 459
        },
        "outputId": "16e2cc75-ea28-4390-ea49-045b4ca414a9"
      },
      "source": [
        "players, medals = df[\"Athlete\"].unique(), []\n",
        "for player in players:\n",
        "  playerdf = df[df[\"Athlete\"]==player]\n",
        "  medals.append([player, len(playerdf['Medal'])])\n",
        "medals = pd.DataFrame(medals, columns=['Name', \"Medals\"])\n",
        "medals = medals.sort_values(by=\"Medals\", ascending=False)\n",
        "medals.head().plot(x = \"Name\", y = \"Medals\", kind = \"bar\", figsize = (10, 5))"
      ],
      "execution_count": 29,
      "outputs": [
        {
          "output_type": "execute_result",
          "data": {
            "text/plain": [
              "<matplotlib.axes._subplots.AxesSubplot at 0x7f38d75b4710>"
            ]
          },
          "metadata": {},
          "execution_count": 29
        },
        {
          "output_type": "display_data",
          "data": {
            "image/png": "[encoded data removed]",
            "text/plain": [
              "<Figure size 720x360 with 1 Axes>"
            ]
          },
          "metadata": {
            "needs_background": "light"
          }
        }
      ]
    },
    {
      "cell_type": "markdown",
      "metadata": {
        "id": "7ZJfBMHW3spz"
      },
      "source": [
        "# ***Which player has won most number Gold Medals of medals? (Top 5)***"
      ]
    },
    {
      "cell_type": "code",
      "metadata": {
        "colab": {
          "base_uri": "https://localhost:8080/",
          "height": 427
        },
        "id": "mtc2QQOFonJX",
        "outputId": "2c50f07d-f113-4fbd-f79f-92ac60d4732b"
      },
      "source": [
        "players, gold_medals = df[\"Athlete\"].unique(), []\n",
        "for player in players:\n",
        "  playerdf = df[df[\"Athlete\"]==player]\n",
        "  gold_medals.append([player, len(playerdf[playerdf['Medal']=='Gold'])])\n",
        "gold_medals = pd.DataFrame(gold_medals, columns=['Name', \"Gold Medals\"])\n",
        "gold_medals = gold_medals.sort_values(by=\"Gold Medals\", ascending=False)\n",
        "gold_medals.head().plot(x = \"Name\", y = \"Gold Medals\", kind = \"bar\", figsize = (10, 5))"
      ],
      "execution_count": 30,
      "outputs": [
        {
          "output_type": "execute_result",
          "data": {
            "text/plain": [
              "<matplotlib.axes._subplots.AxesSubplot at 0x7f38d2215410>"
            ]
          },
          "metadata": {},
          "execution_count": 30
        },
        {
          "output_type": "display_data",
          "data": {
            "image/png": "[encoded data removed]",
            "text/plain": [
              "<Figure size 720x360 with 1 Axes>"
            ]
          },
          "metadata": {
            "needs_background": "light"
          }
        }
      ]
    },
    {
      "cell_type": "markdown",
      "metadata": {
        "id": "TUQ42z195_A1"
      },
      "source": [
        "# ***6. In which year India won first Gold Medal in Summer Olympics?***"
      ]
    },
    {
      "cell_type": "code",
      "metadata": {
        "colab": {
          "base_uri": "https://localhost:8080/"
        },
        "id": "zZugdghs4z9d",
        "outputId": "4e00f59d-2dee-44bb-f977-743fd1825e92"
      },
      "source": [
        "indiadf = df[df['Country']=='IND']\n",
        "print(\"India won its 1st Gold Summer Olpympic Medal in\", list(indiadf[indiadf['Medal']=='Gold']['Year'])[0])"
      ],
      "execution_count": 31,
      "outputs": [
        {
          "output_type": "stream",
          "name": "stdout",
          "text": [
            "India won its 1st Gold Summer Olpympic Medal in 1928\n"
          ]
        }
      ]
    },
    {
      "cell_type": "markdown",
      "metadata": {
        "id": "F9ynWHnn83zG"
      },
      "source": [
        "# ***7. Which event is most popular in terms on number of players? (Top 5)***"
      ]
    },
    {
      "cell_type": "code",
      "metadata": {
        "colab": {
          "base_uri": "https://localhost:8080/",
          "height": 448
        },
        "id": "2Y6lrQ7h40ah",
        "outputId": "942ed5ca-c38b-4751-82a4-ae29bf67a955"
      },
      "source": [
        "events, players = df['Discipline'].unique(), []\n",
        "for event in events:\n",
        "  eventdf = df[df[\"Discipline\"]==event]\n",
        "  players.append([event, len(eventdf['Athlete'])])\n",
        "players = pd.DataFrame(players, columns=['Event', \"Players\"])\n",
        "players = players.sort_values(by=\"Players\", ascending=False)\n",
        "players.head().plot(x = \"Event\", y = \"Players\", kind = \"bar\", figsize = (10, 6))"
      ],
      "execution_count": 32,
      "outputs": [
        {
          "output_type": "execute_result",
          "data": {
            "text/plain": [
              "<matplotlib.axes._subplots.AxesSubplot at 0x7f38d75d1fd0>"
            ]
          },
          "metadata": {},
          "execution_count": 32
        },
        {
          "output_type": "display_data",
          "data": {
            "image/png": "[encoded data removed]",
            "text/plain": [
              "<Figure size 720x432 with 1 Axes>"
            ]
          },
          "metadata": {
            "needs_background": "light"
          }
        }
      ]
    },
    {
      "cell_type": "markdown",
      "metadata": {
        "id": "0oZR4K67BBs1"
      },
      "source": [
        "# ***8. Which sport is having most female Gold Medalists? (Top 5)***"
      ]
    },
    {
      "cell_type": "code",
      "metadata": {
        "colab": {
          "base_uri": "https://localhost:8080/",
          "height": 455
        },
        "id": "QkKAyye59p56",
        "outputId": "06562118-d28d-4698-860b-200806cf7e2d"
      },
      "source": [
        "femaledf, gold_medals, sports = df[df['Gender']==\"Women\"], [], df['Sport'].unique()\n",
        "for sport in sports:\n",
        "  sportdf = femaledf[femaledf['Sport']==sport]\n",
        "  gold_medals.append([sport, len(sportdf[sportdf['Medal']=='Gold'])])\n",
        "gold_medals = pd.DataFrame(data=gold_medals, columns=['Sport', 'Gold Medals'])\n",
        "gold_medals.sort_values(by='Gold Medals', ascending = False, kind = 'quicksort', inplace = True)\n",
        "gold_medals.head().plot(x = \"Sport\", y = \"Gold Medals\", kind = 'bar', figsize=(10,6))"
      ],
      "execution_count": 33,
      "outputs": [
        {
          "output_type": "execute_result",
          "data": {
            "text/plain": [
              "<matplotlib.axes._subplots.AxesSubplot at 0x7f38d748b650>"
            ]
          },
          "metadata": {},
          "execution_count": 33
        },
        {
          "output_type": "display_data",
          "data": {
            "image/png": "[encoded data removed]",
            "text/plain": [
              "<Figure size 720x432 with 1 Axes>"
            ]
          },
          "metadata": {
            "needs_background": "light"
          }
        }
      ]
    }
  ]
}