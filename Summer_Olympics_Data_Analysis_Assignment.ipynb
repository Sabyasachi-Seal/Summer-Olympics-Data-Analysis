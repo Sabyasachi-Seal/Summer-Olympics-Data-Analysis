{
  "nbformat": 4,
  "nbformat_minor": 0,
  "metadata": {
    "colab": {
      "name": "Summer Olympics Data Analysis Assignment",
      "provenance": []
    },
    "kernelspec": {
      "name": "python3",
      "display_name": "Python 3"
    },
    "language_info": {
      "name": "python"
    }
  },
  "cells": [
    {
      "cell_type": "markdown",
      "metadata": {
        "id": "gagvOdqchflD"
      },
      "source": [
        "# ***Cloning Repository***"
      ]
    },
    {
      "cell_type": "code",
      "metadata": {
        "id": "bXsppnVKMwag",
        "colab": {
          "base_uri": "https://localhost:8080/"
        },
        "outputId": "9381af67-a361-40d2-9412-ff8960c83171"
      },
      "source": [
        "!git clone https://github.com/AshishJangra27/Skill-India-AI-ML-Scholarship"
      ],
      "execution_count": 1,
      "outputs": [
        {
          "output_type": "stream",
          "name": "stdout",
          "text": [
            "Cloning into 'Skill-India-AI-ML-Scholarship'...\n",
            "remote: Enumerating objects: 120, done.\u001b[K\n",
            "remote: Counting objects: 100% (120/120), done.\u001b[K\n",
            "remote: Compressing objects: 100% (115/115), done.\u001b[K\n",
            "remote: Total 120 (delta 49), reused 0 (delta 0), pack-reused 0\u001b[K\n",
            "Receiving objects: 100% (120/120), 645.89 KiB | 1.89 MiB/s, done.\n",
            "Resolving deltas: 100% (49/49), done.\n"
          ]
        }
      ]
    },
    {
      "cell_type": "markdown",
      "metadata": {
        "id": "TURtbJolhkkG"
      },
      "source": [
        "# ***Moving to required file***"
      ]
    },
    {
      "cell_type": "code",
      "metadata": {
        "id": "ijNl2kr_NLXx",
        "colab": {
          "base_uri": "https://localhost:8080/"
        },
        "outputId": "f729d78f-fbe0-4670-a7ca-245f8919b26f"
      },
      "source": [
        "cd /content/Skill-India-AI-ML-Scholarship/Summer Olympics"
      ],
      "execution_count": 2,
      "outputs": [
        {
          "output_type": "stream",
          "name": "stdout",
          "text": [
            "/content/Skill-India-AI-ML-Scholarship/Summer Olympics\n"
          ]
        }
      ]
    },
    {
      "cell_type": "markdown",
      "metadata": {
        "id": "uRcuOnZLhqEo"
      },
      "source": [
        "# ***Importing Packages and Creating DataFrame***"
      ]
    },
    {
      "cell_type": "code",
      "metadata": {
        "id": "8tu_y-LlNp-X"
      },
      "source": [
        "import pandas as pd\n",
        "import numpy as np\n",
        "import matplotlib.pyplot as plt\n",
        "df = pd.read_csv(\"summer.csv\")\n",
        "#df"
      ],
      "execution_count": 3,
      "outputs": []
    },
    {
      "cell_type": "markdown",
      "metadata": {
        "id": "SAndQn88h0vG"
      },
      "source": [
        "\n",
        "# ***1. In how many cities Summer Olympics is held so far?***"
      ]
    },
    {
      "cell_type": "code",
      "metadata": {
        "colab": {
          "base_uri": "https://localhost:8080/"
        },
        "id": "gFFhh1L5h0R9",
        "outputId": "2d97a1b9-7803-4ce4-b2b9-b9af0e0763cd"
      },
      "source": [
        "print(\"Total Cities :\", len(df['City'].unique()))"
      ],
      "execution_count": 4,
      "outputs": [
        {
          "output_type": "stream",
          "name": "stdout",
          "text": [
            "Total Cities : 22\n"
          ]
        }
      ]
    },
    {
      "cell_type": "markdown",
      "metadata": {
        "id": "NLBw440rhvN2"
      },
      "source": [
        "\n",
        "# ***2. Which sport is having most number of Gold Medals so far? (Top 5)***"
      ]
    },
    {
      "cell_type": "code",
      "metadata": {
        "colab": {
          "base_uri": "https://localhost:8080/",
          "height": 400
        },
        "id": "5ufDHpRvi0AA",
        "outputId": "9423dc57-8edf-400a-8f04-469a73c478c5"
      },
      "source": [
        "gold = df[df['Medal']=='Gold']\n",
        "sports = df['Sport'].unique()\n",
        "top_gold = []\n",
        "[top_gold.append([sport, len(gold[gold['Sport']==sport])]) for sport in sports]\n",
        "gold = pd.DataFrame(data=top_gold, columns=['Sport', 'Gold Medals'])\n",
        "top_gold = gold.sort_values(by='Gold Medals', ascending=False).head()\n",
        "top_gold.plot(x = 'Sport', y = 'Gold Medals', kind = 'bar', figsize = (15, 5))"
      ],
      "execution_count": 5,
      "outputs": [
        {
          "output_type": "execute_result",
          "data": {
            "text/plain": [
              "<matplotlib.axes._subplots.AxesSubplot at 0x7f0eac571550>"
            ]
          },
          "metadata": {},
          "execution_count": 5
        },
        {
          "output_type": "display_data",
          "data": {
            "image/png": "[encoded data removed]",
            "text/plain": [
              "<Figure size 1080x360 with 1 Axes>"
            ]
          },
          "metadata": {
            "needs_background": "light"
          }
        }
      ]
    },
    {
      "cell_type": "markdown",
      "metadata": {
        "id": "_lQK7eMTj6XE"
      },
      "source": [
        "# ***3. Which sport is having most number of medals so far? (Top 5)***"
      ]
    },
    {
      "cell_type": "code",
      "metadata": {
        "colab": {
          "base_uri": "https://localhost:8080/",
          "height": 400
        },
        "id": "e3akH31Wp65f",
        "outputId": "656eaf56-b43a-4813-ed70-397ba8a38b65"
      },
      "source": [
        "sports, medals = df['Sport'].unique(), []\n",
        "for sport in sports:\n",
        "  sportdf = df[df[\"Sport\"]==sport]\n",
        "  medals.append([sport, len(sportdf['Medal'])])\n",
        "medals = pd.DataFrame(medals, columns=['Sport', \"Medals\"])\n",
        "medals = medals.sort_values(by=\"Medals\", ascending=False)\n",
        "medals.head().plot(x = \"Sport\", y = \"Medals\", kind = \"bar\", figsize = (15, 5))"
      ],
      "execution_count": 6,
      "outputs": [
        {
          "output_type": "execute_result",
          "data": {
            "text/plain": [
              "<matplotlib.axes._subplots.AxesSubplot at 0x7f0eb30e1ed0>"
            ]
          },
          "metadata": {},
          "execution_count": 6
        },
        {
          "output_type": "display_data",
          "data": {
            "image/png": "[encoded data removed]",
            "text/plain": [
              "<Figure size 1080x360 with 1 Axes>"
            ]
          },
          "metadata": {
            "needs_background": "light"
          }
        }
      ]
    },
    {
      "cell_type": "markdown",
      "metadata": {
        "id": "NEKQ1An-xhJy"
      },
      "source": [
        "# ***4. Which player has won most number of medals? (Top 5)***"
      ]
    },
    {
      "cell_type": "code",
      "metadata": {
        "id": "9-AD9QcrcU1s",
        "colab": {
          "base_uri": "https://localhost:8080/",
          "height": 459
        },
        "outputId": "5809c5b5-d3e7-450f-fc36-ffecee78b1b3"
      },
      "source": [
        "players, medals = df[\"Athlete\"].unique(), []\n",
        "for player in players:\n",
        "  playerdf = df[df[\"Athlete\"]==player]\n",
        "  medals.append([player, len(playerdf['Medal'])])\n",
        "medals = pd.DataFrame(medals, columns=['Name', \"Medals\"])\n",
        "medals = medals.sort_values(by=\"Medals\", ascending=False)\n",
        "medals.head().plot(x = \"Name\", y = \"Medals\", kind = \"bar\", figsize = (15, 5))"
      ],
      "execution_count": 7,
      "outputs": [
        {
          "output_type": "execute_result",
          "data": {
            "text/plain": [
              "<matplotlib.axes._subplots.AxesSubplot at 0x7f0eac588310>"
            ]
          },
          "metadata": {},
          "execution_count": 7
        },
        {
          "output_type": "display_data",
          "data": {
            "image/png": "[encoded data removed]",
            "text/plain": [
              "<Figure size 1080x360 with 1 Axes>"
            ]
          },
          "metadata": {
            "needs_background": "light"
          }
        }
      ]
    },
    {
      "cell_type": "markdown",
      "metadata": {
        "id": "7ZJfBMHW3spz"
      },
      "source": [
        "# ***Which player has won most number Gold Medals of medals? (Top 5)***"
      ]
    },
    {
      "cell_type": "code",
      "metadata": {
        "id": "mtc2QQOFonJX",
        "colab": {
          "base_uri": "https://localhost:8080/",
          "height": 427
        },
        "outputId": "46479f4c-ebde-4046-ee26-06e57c2001b0"
      },
      "source": [
        "players, gold_medals = df[\"Athlete\"].unique(), []\n",
        "for player in players:\n",
        "  playerdf = df[df[\"Athlete\"]==player]\n",
        "  gold_medals.append([player, len(playerdf[playerdf['Medal']=='Gold'])])\n",
        "gold_medals = pd.DataFrame(gold_medals, columns=['Name', \"Gold Medals\"])\n",
        "gold_medals = gold_medals.sort_values(by=\"Gold Medals\", ascending=False)\n",
        "gold_medals.head().plot(x = \"Name\", y = \"Gold Medals\", kind = \"bar\", figsize = (15, 5))"
      ],
      "execution_count": 8,
      "outputs": [
        {
          "output_type": "execute_result",
          "data": {
            "text/plain": [
              "<matplotlib.axes._subplots.AxesSubplot at 0x7f0eabf46c90>"
            ]
          },
          "metadata": {},
          "execution_count": 8
        },
        {
          "output_type": "display_data",
          "data": {
            "image/png": "[encoded data removed]",
            "text/plain": [
              "<Figure size 1080x360 with 1 Axes>"
            ]
          },
          "metadata": {
            "needs_background": "light"
          }
        }
      ]
    },
    {
      "cell_type": "markdown",
      "metadata": {
        "id": "TUQ42z195_A1"
      },
      "source": [
        "# ***6. In which year India won first Gold Medal in Summer Olympics?***"
      ]
    },
    {
      "cell_type": "code",
      "metadata": {
        "id": "zZugdghs4z9d",
        "colab": {
          "base_uri": "https://localhost:8080/"
        },
        "outputId": "c5a21d6b-cc28-4a9a-b8a9-4ec702ee3fd9"
      },
      "source": [
        "indiadf = df[df['Country']=='IND']\n",
        "print(\"India won its 1st Gold Summer Olpympic Medal in\", list(indiadf[indiadf['Medal']=='Gold']['Year'])[0])"
      ],
      "execution_count": 9,
      "outputs": [
        {
          "output_type": "stream",
          "name": "stdout",
          "text": [
            "India won its 1st Gold Summer Olpympic Medal in 1928\n"
          ]
        }
      ]
    },
    {
      "cell_type": "markdown",
      "metadata": {
        "id": "F9ynWHnn83zG"
      },
      "source": [
        "# ***7. Which event is most popular in terms on number of players? (Top 5)***"
      ]
    },
    {
      "cell_type": "code",
      "metadata": {
        "id": "2Y6lrQ7h40ah",
        "colab": {
          "base_uri": "https://localhost:8080/",
          "height": 432
        },
        "outputId": "351f7290-ba44-4c51-db97-b02f5b054d05"
      },
      "source": [
        "events, players = df['Event'].unique(), []\n",
        "for event in events:\n",
        "  eventdf = df[df[\"Event\"]==event]\n",
        "  players.append([event, len(eventdf['Athlete'])])\n",
        "players = pd.DataFrame(players, columns=['Event', \"Players\"])\n",
        "players = players.sort_values(by=\"Players\", ascending=False)\n",
        "players.head().plot(x = \"Event\", y = \"Players\", kind = \"bar\", figsize = (15, 5))"
      ],
      "execution_count": 10,
      "outputs": [
        {
          "output_type": "execute_result",
          "data": {
            "text/plain": [
              "<matplotlib.axes._subplots.AxesSubplot at 0x7f0eabf91a50>"
            ]
          },
          "metadata": {},
          "execution_count": 10
        },
        {
          "output_type": "display_data",
          "data": {
            "image/png": "[encoded data removed]",
            "text/plain": [
              "<Figure size 1080x360 with 1 Axes>"
            ]
          },
          "metadata": {
            "needs_background": "light"
          }
        }
      ]
    },
    {
      "cell_type": "markdown",
      "metadata": {
        "id": "0oZR4K67BBs1"
      },
      "source": [
        "# ***8. Which sport is having most female Gold Medalists? (Top 5)***"
      ]
    },
    {
      "cell_type": "code",
      "metadata": {
        "id": "QkKAyye59p56",
        "colab": {
          "base_uri": "https://localhost:8080/",
          "height": 455
        },
        "outputId": "34987def-03fb-42c0-f457-9a1fdd73b880"
      },
      "source": [
        "femaledf, gold_medals, sports = df[df['Gender']==\"Women\"], [], df['Sport'].unique()\n",
        "for sport in sports:\n",
        "  sportdf = femaledf[femaledf['Sport']==sport]\n",
        "  gold_medals.append([sport, len(sportdf[sportdf['Medal']=='Gold'])])\n",
        "gold_medals = pd.DataFrame(data=gold_medals, columns=['Sport', 'Gold Medals'])\n",
        "gold_medals.sort_values(by='Gold Medals', ascending = False, kind = 'quicksort', inplace = True)\n",
        "gold_medals.head().plot(x = \"Sport\", y = \"Gold Medals\", kind = 'bar', figsize=(15,6))"
      ],
      "execution_count": 11,
      "outputs": [
        {
          "output_type": "execute_result",
          "data": {
            "text/plain": [
              "<matplotlib.axes._subplots.AxesSubplot at 0x7f0eabf309d0>"
            ]
          },
          "metadata": {},
          "execution_count": 11
        },
        {
          "output_type": "display_data",
          "data": {
            "image/png": "[encoded data removed]",
            "text/plain": [
              "<Figure size 1080x432 with 1 Axes>"
            ]
          },
          "metadata": {
            "needs_background": "light"
          }
        }
      ]
    }
  ]
}